{
 "cells": [
  {
   "metadata": {},
   "cell_type": "raw",
   "source": [
    "---\n",
    "title: \"Atan2\"\n",
    "lang: es\n",
    "format: \n",
    "  pdf:\n",
    "    toc: true\n",
    "    toc-title: \"Tabla de Contenidos\"  \n",
    "execute:\n",
    "  echo: true\n",
    "  error: false\n",
    "  warning: false\n",
    "code-fold: true\n",
    "jupyter: python3\n",
    "---"
   ],
   "id": "7be20bbefb0aa673"
  },
  {
   "metadata": {},
   "cell_type": "markdown",
   "source": "# Atan2",
   "id": "1b83bd11565a2e36"
  },
  {
   "metadata": {},
   "cell_type": "markdown",
   "source": [
    "## Investigue y resuma la función atan2. \n",
    "La función atan2 que se encuentra en el módulo math devuelve la arcotangente en radianes del cociente de los argumentos pasados en la función $atan(y/x)$ donde x e y son las coordenadas de un punto (x,y), esto por lo tanto devuelve el ángulo en radianes entre el eje x positivo y el punto (x,y), el cual es conocido como ángulo polar.\n",
    "\n",
    "![polar.jpg](polar.jpg)\n",
    "\n"
   ],
   "id": "56281f33b7d78350"
  },
  {
   "metadata": {},
   "cell_type": "markdown",
   "source": [
    "## ¿Por qué se recomienda usar la función atan2?\n",
    "Se recomienda utilizar la función atan2 devido a que tiene en sí misma varias funcionalidades que evitan errores en el cálculo, por ejemplo esta función considera los signos de ambas coordenadas $x$ y $y$ para determinar correctamente el cuadrante del ángulo, a su vez evita la división para cero lo que usualmente generaría un error o un comportamineto inesperado.\n"
   ],
   "id": "8aaac58a5ef7062f"
  },
  {
   "metadata": {},
   "cell_type": "markdown",
   "source": [
    "## Diferencias entre función atan y atan2. \n",
    "* Función: atan se utiliza simplemente para determinar el arcotangente de un valor, mientras que atan2 se utiliza para determinar el valor del arcotangente de una relación entre $y$ y $x$.\n",
    "* Rango: atan devuelve un valor entre $-\\frac{\\pi}{2},\\frac{\\pi}{2}$, mientras que atan2 devuelve un valor entre $-\\pi,\\pi$.\n",
    "* Manejo de signos: atan no distingue los signos de x y y, solo se basa en el valor de la relación, mientras que atan3 puede identificar el cuadrante correcto del ángulo.\n",
    "* División para cero: atan retornará una falla, mientras que atan2 devolverá $\\frac{\\pi}{2},-\\frac{\\pi}{2},0$ dependiendo del valor de $y$"
   ],
   "id": "5cd77b4d795a79bc"
  },
  {
   "metadata": {},
   "cell_type": "markdown",
   "source": "## Al menos 5 ejemplos en python. ",
   "id": "1548f38333817266"
  },
  {
   "metadata": {
    "ExecuteTime": {
     "end_time": "2024-12-17T02:25:04.014126Z",
     "start_time": "2024-12-17T02:25:03.999871Z"
    }
   },
   "cell_type": "code",
   "source": [
    "import math\n",
    "x = 1\n",
    "y = 1\n",
    "angulo_atan = math.atan(y / x) \n",
    "print(\"atan:\", angulo_atan, \"radianes\")\n",
    "angulo_atan2 = math.atan2(y, x)\n",
    "print(\"atan2:\", angulo_atan2, \"radianes\")\n"
   ],
   "id": "5399e5dccf0665c",
   "outputs": [
    {
     "name": "stdout",
     "output_type": "stream",
     "text": [
      "atan: 0.7853981633974483 radianes\n",
      "atan2: 0.7853981633974483 radianes\n"
     ]
    }
   ],
   "execution_count": 1
  },
  {
   "metadata": {
    "ExecuteTime": {
     "end_time": "2024-12-17T02:25:22.300037Z",
     "start_time": "2024-12-17T02:25:22.287951Z"
    }
   },
   "cell_type": "code",
   "source": [
    "import math\n",
    "puntos = [(1, 1), (-1, 1), (-1, -1), (1, -1)]\n",
    "print(\"Comparación atan2:\")\n",
    "for x, y in puntos:\n",
    "    angulo = math.atan2(y, x)\n",
    "    print(f\"({x}, {y}) -> {angulo:.2f} radianes\")\n"
   ],
   "id": "932cf97d7af688a1",
   "outputs": [
    {
     "name": "stdout",
     "output_type": "stream",
     "text": [
      "Comparación atan2:\n",
      "(1, 1) -> 0.79 radianes\n",
      "(-1, 1) -> 2.36 radianes\n",
      "(-1, -1) -> -2.36 radianes\n",
      "(1, -1) -> -0.79 radianes\n"
     ]
    }
   ],
   "execution_count": 2
  },
  {
   "metadata": {
    "ExecuteTime": {
     "end_time": "2024-12-17T02:25:48.935921Z",
     "start_time": "2024-12-17T02:25:48.928942Z"
    }
   },
   "cell_type": "code",
   "source": [
    "import math\n",
    "coordenadas = [(0, 1), (0, -1), (0, 0)]\n",
    "print(\"Resultados con atan2:\")\n",
    "for x, y in coordenadas:\n",
    "    angulo = math.atan2(y, x)\n",
    "    print(f\"({x}, {y}) -> {angulo:.2f} radianes\")\n"
   ],
   "id": "6b695018f849dc9",
   "outputs": [
    {
     "name": "stdout",
     "output_type": "stream",
     "text": [
      "Resultados con atan2:\n",
      "(0, 1) -> 1.57 radianes\n",
      "(0, -1) -> -1.57 radianes\n",
      "(0, 0) -> 0.00 radianes\n"
     ]
    }
   ],
   "execution_count": 3
  },
  {
   "metadata": {
    "ExecuteTime": {
     "end_time": "2024-12-17T02:26:24.592068Z",
     "start_time": "2024-12-17T02:26:24.579700Z"
    }
   },
   "cell_type": "code",
   "source": [
    "import math\n",
    "x = -1\n",
    "y = 1\n",
    "angulo_radianes = math.atan2(y, x)\n",
    "angulo_grados = math.degrees(angulo_radianes)\n",
    "print(f\"Ángulo en radianes: {angulo_radianes:.2f}\")\n",
    "print(f\"Ángulo en grados: {angulo_grados:.2f}°\")\n"
   ],
   "id": "919287a43c23ace6",
   "outputs": [
    {
     "name": "stdout",
     "output_type": "stream",
     "text": [
      "Ángulo en radianes: 2.36\n",
      "Ángulo en grados: 135.00°\n"
     ]
    }
   ],
   "execution_count": 4
  },
  {
   "metadata": {
    "ExecuteTime": {
     "end_time": "2024-12-17T02:26:58.601135Z",
     "start_time": "2024-12-17T02:26:58.582256Z"
    }
   },
   "cell_type": "code",
   "source": [
    "import math\n",
    "x = 3\n",
    "y = 4\n",
    "magnitud = math.sqrt(x**2 + y**2)\n",
    "angulo = math.atan2(y, x)  \n",
    "angulo_grados = math.degrees(angulo)\n",
    "print(f\"Vector: ({x}, {y})\")\n",
    "print(f\"Magnitud: {magnitud:.2f}\")\n",
    "print(f\"Dirección: {angulo:.2f} radianes ({angulo_grados:.2f}°)\")\n"
   ],
   "id": "8188f7129a6f880",
   "outputs": [
    {
     "name": "stdout",
     "output_type": "stream",
     "text": [
      "Vector: (3, 4)\n",
      "Magnitud: 5.00\n",
      "Dirección: 0.93 radianes (53.13°)\n"
     ]
    }
   ],
   "execution_count": 5
  }
 ],
 "metadata": {
  "kernelspec": {
   "display_name": "Python 3",
   "language": "python",
   "name": "python3"
  },
  "language_info": {
   "codemirror_mode": {
    "name": "ipython",
    "version": 2
   },
   "file_extension": ".py",
   "mimetype": "text/x-python",
   "name": "python",
   "nbconvert_exporter": "python",
   "pygments_lexer": "ipython2",
   "version": "2.7.6"
  }
 },
 "nbformat": 4,
 "nbformat_minor": 5
}
